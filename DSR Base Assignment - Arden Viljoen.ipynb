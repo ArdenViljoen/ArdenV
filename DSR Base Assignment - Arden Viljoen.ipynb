{
 "cells": [
  {
   "cell_type": "markdown",
   "metadata": {},
   "source": [
    "DSR Base Assignment - Arden Viljoen"
   ]
  },
  {
   "cell_type": "code",
   "execution_count": 179,
   "metadata": {},
   "outputs": [],
   "source": [
    "import pandas as pd\n",
    "import numpy as np\n",
    "import matplotlib.pyplot as plt\n",
    "import seaborn as sns\n",
    "\n",
    "\n",
    "%matplotlib inline"
   ]
  },
  {
   "cell_type": "code",
   "execution_count": 180,
   "metadata": {},
   "outputs": [
    {
     "data": {
      "text/html": [
       "<div>\n",
       "<style scoped>\n",
       "    .dataframe tbody tr th:only-of-type {\n",
       "        vertical-align: middle;\n",
       "    }\n",
       "\n",
       "    .dataframe tbody tr th {\n",
       "        vertical-align: top;\n",
       "    }\n",
       "\n",
       "    .dataframe thead th {\n",
       "        text-align: right;\n",
       "    }\n",
       "</style>\n",
       "<table border=\"1\" class=\"dataframe\">\n",
       "  <thead>\n",
       "    <tr style=\"text-align: right;\">\n",
       "      <th></th>\n",
       "      <th>District</th>\n",
       "      <th>Code</th>\n",
       "      <th>Estimate</th>\n",
       "      <th>Prevalence_%</th>\n",
       "      <th>Prevalence_LCL</th>\n",
       "      <th>Prevalence_UCL</th>\n",
       "      <th>NoPLHIV</th>\n",
       "      <th>NoPLHIV_LCL</th>\n",
       "      <th>NoPLHIV_UCL</th>\n",
       "    </tr>\n",
       "  </thead>\n",
       "  <tbody>\n",
       "    <tr>\n",
       "      <th>0</th>\n",
       "      <td>Buffalo City</td>\n",
       "      <td>BUF</td>\n",
       "      <td>Survey</td>\n",
       "      <td>13.600</td>\n",
       "      <td>10.268</td>\n",
       "      <td>16.932</td>\n",
       "      <td>102437</td>\n",
       "      <td>77340</td>\n",
       "      <td>127534</td>\n",
       "    </tr>\n",
       "    <tr>\n",
       "      <th>1</th>\n",
       "      <td>Buffalo City</td>\n",
       "      <td>BUF</td>\n",
       "      <td>Fay-Heriott</td>\n",
       "      <td>13.501</td>\n",
       "      <td>11.032</td>\n",
       "      <td>16.422</td>\n",
       "      <td>101693</td>\n",
       "      <td>83092</td>\n",
       "      <td>123691</td>\n",
       "    </tr>\n",
       "    <tr>\n",
       "      <th>2</th>\n",
       "      <td>City of Cape Town</td>\n",
       "      <td>CPT</td>\n",
       "      <td>Survey</td>\n",
       "      <td>5.200</td>\n",
       "      <td>3.044</td>\n",
       "      <td>7.356</td>\n",
       "      <td>200751</td>\n",
       "      <td>117517</td>\n",
       "      <td>283985</td>\n",
       "    </tr>\n",
       "    <tr>\n",
       "      <th>3</th>\n",
       "      <td>City of Cape Town</td>\n",
       "      <td>CPT</td>\n",
       "      <td>Fay-Heriott</td>\n",
       "      <td>6.020</td>\n",
       "      <td>4.335</td>\n",
       "      <td>8.303</td>\n",
       "      <td>232409</td>\n",
       "      <td>167359</td>\n",
       "      <td>320548</td>\n",
       "    </tr>\n",
       "    <tr>\n",
       "      <th>4</th>\n",
       "      <td>West Coast</td>\n",
       "      <td>DC1</td>\n",
       "      <td>Survey</td>\n",
       "      <td>2.700</td>\n",
       "      <td>0.000</td>\n",
       "      <td>5.444</td>\n",
       "      <td>11302</td>\n",
       "      <td>0</td>\n",
       "      <td>22789</td>\n",
       "    </tr>\n",
       "  </tbody>\n",
       "</table>\n",
       "</div>"
      ],
      "text/plain": [
       "            District Code     Estimate  Prevalence_%  Prevalence_LCL  \\\n",
       "0       Buffalo City  BUF       Survey        13.600          10.268   \n",
       "1       Buffalo City  BUF  Fay-Heriott        13.501          11.032   \n",
       "2  City of Cape Town  CPT       Survey         5.200           3.044   \n",
       "3  City of Cape Town  CPT  Fay-Heriott         6.020           4.335   \n",
       "4         West Coast  DC1       Survey         2.700           0.000   \n",
       "\n",
       "   Prevalence_UCL  NoPLHIV  NoPLHIV_LCL  NoPLHIV_UCL  \n",
       "0          16.932   102437        77340       127534  \n",
       "1          16.422   101693        83092       123691  \n",
       "2           7.356   200751       117517       283985  \n",
       "3           8.303   232409       167359       320548  \n",
       "4           5.444    11302            0        22789  "
      ]
     },
     "execution_count": 180,
     "metadata": {},
     "output_type": "execute_result"
    }
   ],
   "source": [
    "dataset=pd.read_csv(\"C:/Users/Arden Viljoen/Desktop/Dataset.csv\")\n",
    "dataset.head(5)"
   ]
  },
  {
   "cell_type": "markdown",
   "metadata": {},
   "source": [
    "## Question: What is the total number of people living with HIV (NoPLHIV) in the listed districts according to the Survey estimate?"
   ]
  },
  {
   "cell_type": "code",
   "execution_count": 181,
   "metadata": {},
   "outputs": [],
   "source": [
    "data1 = dataset.loc[dataset[\"Estimate\"] != \"Fay-Heriott\"]"
   ]
  },
  {
   "cell_type": "code",
   "execution_count": 182,
   "metadata": {},
   "outputs": [
    {
     "data": {
      "text/html": [
       "<div>\n",
       "<style scoped>\n",
       "    .dataframe tbody tr th:only-of-type {\n",
       "        vertical-align: middle;\n",
       "    }\n",
       "\n",
       "    .dataframe tbody tr th {\n",
       "        vertical-align: top;\n",
       "    }\n",
       "\n",
       "    .dataframe thead th {\n",
       "        text-align: right;\n",
       "    }\n",
       "</style>\n",
       "<table border=\"1\" class=\"dataframe\">\n",
       "  <thead>\n",
       "    <tr style=\"text-align: right;\">\n",
       "      <th></th>\n",
       "      <th>District</th>\n",
       "      <th>Code</th>\n",
       "      <th>Estimate</th>\n",
       "      <th>Prevalence_%</th>\n",
       "      <th>Prevalence_LCL</th>\n",
       "      <th>Prevalence_UCL</th>\n",
       "      <th>NoPLHIV</th>\n",
       "      <th>NoPLHIV_LCL</th>\n",
       "      <th>NoPLHIV_UCL</th>\n",
       "    </tr>\n",
       "  </thead>\n",
       "  <tbody>\n",
       "    <tr>\n",
       "      <th>0</th>\n",
       "      <td>Buffalo City</td>\n",
       "      <td>BUF</td>\n",
       "      <td>Survey</td>\n",
       "      <td>13.600</td>\n",
       "      <td>10.268</td>\n",
       "      <td>16.932</td>\n",
       "      <td>102437</td>\n",
       "      <td>77340</td>\n",
       "      <td>127534</td>\n",
       "    </tr>\n",
       "    <tr>\n",
       "      <th>2</th>\n",
       "      <td>City of Cape Town</td>\n",
       "      <td>CPT</td>\n",
       "      <td>Survey</td>\n",
       "      <td>5.200</td>\n",
       "      <td>3.044</td>\n",
       "      <td>7.356</td>\n",
       "      <td>200751</td>\n",
       "      <td>117517</td>\n",
       "      <td>283985</td>\n",
       "    </tr>\n",
       "    <tr>\n",
       "      <th>4</th>\n",
       "      <td>West Coast</td>\n",
       "      <td>DC1</td>\n",
       "      <td>Survey</td>\n",
       "      <td>2.700</td>\n",
       "      <td>0.000</td>\n",
       "      <td>5.444</td>\n",
       "      <td>11302</td>\n",
       "      <td>0</td>\n",
       "      <td>22789</td>\n",
       "    </tr>\n",
       "    <tr>\n",
       "      <th>6</th>\n",
       "      <td>Cacadu</td>\n",
       "      <td>DC10</td>\n",
       "      <td>Survey</td>\n",
       "      <td>7.600</td>\n",
       "      <td>3.484</td>\n",
       "      <td>11.716</td>\n",
       "      <td>34732</td>\n",
       "      <td>15922</td>\n",
       "      <td>53542</td>\n",
       "    </tr>\n",
       "    <tr>\n",
       "      <th>8</th>\n",
       "      <td>Amatole</td>\n",
       "      <td>DC12</td>\n",
       "      <td>Survey</td>\n",
       "      <td>11.000</td>\n",
       "      <td>7.276</td>\n",
       "      <td>14.724</td>\n",
       "      <td>98884</td>\n",
       "      <td>65407</td>\n",
       "      <td>132361</td>\n",
       "    </tr>\n",
       "  </tbody>\n",
       "</table>\n",
       "</div>"
      ],
      "text/plain": [
       "            District  Code Estimate  Prevalence_%  Prevalence_LCL  \\\n",
       "0       Buffalo City   BUF   Survey        13.600          10.268   \n",
       "2  City of Cape Town   CPT   Survey         5.200           3.044   \n",
       "4         West Coast   DC1   Survey         2.700           0.000   \n",
       "6             Cacadu  DC10   Survey         7.600           3.484   \n",
       "8            Amatole  DC12   Survey        11.000           7.276   \n",
       "\n",
       "   Prevalence_UCL  NoPLHIV  NoPLHIV_LCL  NoPLHIV_UCL  \n",
       "0          16.932   102437        77340       127534  \n",
       "2           7.356   200751       117517       283985  \n",
       "4           5.444    11302            0        22789  \n",
       "6          11.716    34732        15922        53542  \n",
       "8          14.724    98884        65407       132361  "
      ]
     },
     "execution_count": 182,
     "metadata": {},
     "output_type": "execute_result"
    }
   ],
   "source": [
    "data1.head(5)"
   ]
  },
  {
   "cell_type": "code",
   "execution_count": 183,
   "metadata": {},
   "outputs": [
    {
     "name": "stdout",
     "output_type": "stream",
     "text": [
      "                      District  NoPLHIV    Total\n",
      "0                 Buffalo City   102437  6409903\n",
      "2            City of Cape Town   200751  6409903\n",
      "4                   West Coast    11302  6409903\n",
      "6                       Cacadu    34732  6409903\n",
      "8                      Amatole    98884  6409903\n",
      "10                  Chris Hani   114849  6409903\n",
      "12                   Joe Gqabi    37766  6409903\n",
      "14                  O.R. Tambo   160352  6409903\n",
      "16                     Xhariep    11777  6409903\n",
      "18               Lejweleputswa   123868  6409903\n",
      "20          Thabo Mofutsanyana   115006  6409903\n",
      "22              Cape Winelands    30706  6409903\n",
      "24                 Fezile Dabi    45550  6409903\n",
      "26                         Ugu   142979  6409903\n",
      "28               uMgungundlovu   221073  6409903\n",
      "30                    uThukela   118124  6409903\n",
      "32                  uMzinyathi    93587  6409903\n",
      "34                     Amajuba    82210  6409903\n",
      "36                    Zululand   171411  6409903\n",
      "38                uMkhanyakude    86131  6409903\n",
      "40                   uThungulu   162238  6409903\n",
      "42                      iLembe    78178  6409903\n",
      "44                    Overberg    17039  6409903\n",
      "46                Gert Sibande   208067  6409903\n",
      "48                    Nkangala   126270  6409903\n",
      "50                   Ehlanzeni   281104  6409903\n",
      "52                      Mopani    87968  6409903\n",
      "54                      Vhembe    70373  6409903\n",
      "56                   Capricorn   116351  6409903\n",
      "58                   Waterberg    71577  6409903\n",
      "60           Bojanala Platinum   212904  6409903\n",
      "62         Ngaka Modiri Molema   117661  6409903\n",
      "64   Dr Ruth Segomotsi Mompati    51450  6409903\n",
      "66                        Eden    25191  6409903\n",
      "68           Dr Kenneth Kaunda   102584  6409903\n",
      "70                    Sedibeng   197713  6409903\n",
      "72                     Sisonke    99572  6409903\n",
      "74                  Alfred Nzo   104363  6409903\n",
      "76         John Taolo Gaetsewe    20323  6409903\n",
      "78                  Sekhukhune    77489  6409903\n",
      "80                   West Rand    60313  6409903\n",
      "82               Central Karoo    17808  6409903\n",
      "84                     Namakwa     3317  6409903\n",
      "86              Pixley ka Seme     9501  6409903\n",
      "88                     Siyanda    13673  6409903\n",
      "90               Frances Baard    47040  6409903\n",
      "92                  Ekurhuleni   462059  6409903\n",
      "94                   eThekwini   502310  6409903\n",
      "96        City of Johannesburg   515387  6409903\n",
      "98                    Mangaung    87676  6409903\n",
      "100   Nelson Mandela Bay Metro    97459  6409903\n",
      "102            City of Tshwane   361450  6409903\n"
     ]
    }
   ],
   "source": [
    "df1 = pd.DataFrame(data1)\n",
    "df1['Total'] = df1['NoPLHIV'].sum() \n",
    "print(df1[['District', 'NoPLHIV','Total']])\n",
    " "
   ]
  },
  {
   "cell_type": "markdown",
   "metadata": {},
   "source": [
    "## Question: What is the average NoPLHIV of the two estimates used for “Xhariep”?"
   ]
  },
  {
   "cell_type": "code",
   "execution_count": 184,
   "metadata": {},
   "outputs": [
    {
     "name": "stdout",
     "output_type": "stream",
     "text": [
      "   District  NoPLHIV\n",
      "16  Xhariep    11777\n",
      "17  Xhariep    12718\n"
     ]
    }
   ],
   "source": [
    "data2 = dataset.loc[dataset[\"District\"] == \"Xhariep\"]\n",
    "\n",
    "\n",
    "df2 = pd.DataFrame(data2)\n",
    "print(df2[['District', 'NoPLHIV']])\n",
    "\n"
   ]
  },
  {
   "cell_type": "code",
   "execution_count": 185,
   "metadata": {},
   "outputs": [
    {
     "name": "stdout",
     "output_type": "stream",
     "text": [
      "12247.5\n"
     ]
    }
   ],
   "source": [
    "Average=(11777+12718)/2\n",
    "print(Average)\n"
   ]
  },
  {
   "cell_type": "markdown",
   "metadata": {},
   "source": [
    "## Question: Add a column and populate it with the number of people not living with HIV for each row. "
   ]
  },
  {
   "cell_type": "code",
   "execution_count": 186,
   "metadata": {},
   "outputs": [],
   "source": [
    "df3 = pd.DataFrame(dataset)\n",
    "pd.set_option('display.float_format', lambda x: '%.3f' % x)"
   ]
  },
  {
   "cell_type": "code",
   "execution_count": 187,
   "metadata": {},
   "outputs": [],
   "source": [
    "df3[\"Multiplier\"] = (100/df3[\"Prevalence_%\"]) \n",
    "df3[\"TotalHIV\"] = df3[\"Multiplier\"]*df3[\"NoPLHIV\"]\n",
    "df3[\"NoNLHIV\"] = df3[\"TotalHIV\"]-df3[\"NoPLHIV\"]\n",
    "\n",
    "\n"
   ]
  },
  {
   "cell_type": "code",
   "execution_count": 188,
   "metadata": {},
   "outputs": [
    {
     "data": {
      "text/html": [
       "<div>\n",
       "<style scoped>\n",
       "    .dataframe tbody tr th:only-of-type {\n",
       "        vertical-align: middle;\n",
       "    }\n",
       "\n",
       "    .dataframe tbody tr th {\n",
       "        vertical-align: top;\n",
       "    }\n",
       "\n",
       "    .dataframe thead th {\n",
       "        text-align: right;\n",
       "    }\n",
       "</style>\n",
       "<table border=\"1\" class=\"dataframe\">\n",
       "  <thead>\n",
       "    <tr style=\"text-align: right;\">\n",
       "      <th></th>\n",
       "      <th>District</th>\n",
       "      <th>Code</th>\n",
       "      <th>Estimate</th>\n",
       "      <th>Prevalence_%</th>\n",
       "      <th>Prevalence_LCL</th>\n",
       "      <th>Prevalence_UCL</th>\n",
       "      <th>NoPLHIV</th>\n",
       "      <th>NoPLHIV_LCL</th>\n",
       "      <th>NoPLHIV_UCL</th>\n",
       "      <th>NoNLHIV</th>\n",
       "    </tr>\n",
       "  </thead>\n",
       "  <tbody>\n",
       "    <tr>\n",
       "      <th>0</th>\n",
       "      <td>Buffalo City</td>\n",
       "      <td>BUF</td>\n",
       "      <td>Survey</td>\n",
       "      <td>13.600</td>\n",
       "      <td>10.268</td>\n",
       "      <td>16.932</td>\n",
       "      <td>102437</td>\n",
       "      <td>77340</td>\n",
       "      <td>127534</td>\n",
       "      <td>650776.235</td>\n",
       "    </tr>\n",
       "    <tr>\n",
       "      <th>1</th>\n",
       "      <td>Buffalo City</td>\n",
       "      <td>BUF</td>\n",
       "      <td>Fay-Heriott</td>\n",
       "      <td>13.501</td>\n",
       "      <td>11.032</td>\n",
       "      <td>16.422</td>\n",
       "      <td>101693</td>\n",
       "      <td>83092</td>\n",
       "      <td>123691</td>\n",
       "      <td>651516.879</td>\n",
       "    </tr>\n",
       "    <tr>\n",
       "      <th>2</th>\n",
       "      <td>City of Cape Town</td>\n",
       "      <td>CPT</td>\n",
       "      <td>Survey</td>\n",
       "      <td>5.200</td>\n",
       "      <td>3.044</td>\n",
       "      <td>7.356</td>\n",
       "      <td>200751</td>\n",
       "      <td>117517</td>\n",
       "      <td>283985</td>\n",
       "      <td>3659845.154</td>\n",
       "    </tr>\n",
       "    <tr>\n",
       "      <th>3</th>\n",
       "      <td>City of Cape Town</td>\n",
       "      <td>CPT</td>\n",
       "      <td>Fay-Heriott</td>\n",
       "      <td>6.020</td>\n",
       "      <td>4.335</td>\n",
       "      <td>8.303</td>\n",
       "      <td>232409</td>\n",
       "      <td>167359</td>\n",
       "      <td>320548</td>\n",
       "      <td>3628178.284</td>\n",
       "    </tr>\n",
       "    <tr>\n",
       "      <th>4</th>\n",
       "      <td>West Coast</td>\n",
       "      <td>DC1</td>\n",
       "      <td>Survey</td>\n",
       "      <td>2.700</td>\n",
       "      <td>0.000</td>\n",
       "      <td>5.444</td>\n",
       "      <td>11302</td>\n",
       "      <td>0</td>\n",
       "      <td>22789</td>\n",
       "      <td>407290.593</td>\n",
       "    </tr>\n",
       "    <tr>\n",
       "      <th>...</th>\n",
       "      <td>...</td>\n",
       "      <td>...</td>\n",
       "      <td>...</td>\n",
       "      <td>...</td>\n",
       "      <td>...</td>\n",
       "      <td>...</td>\n",
       "      <td>...</td>\n",
       "      <td>...</td>\n",
       "      <td>...</td>\n",
       "      <td>...</td>\n",
       "    </tr>\n",
       "    <tr>\n",
       "      <th>99</th>\n",
       "      <td>Mangaung</td>\n",
       "      <td>MAN</td>\n",
       "      <td>Fay-Heriott</td>\n",
       "      <td>9.147</td>\n",
       "      <td>6.726</td>\n",
       "      <td>12.326</td>\n",
       "      <td>101520</td>\n",
       "      <td>74646</td>\n",
       "      <td>136792</td>\n",
       "      <td>1008300.581</td>\n",
       "    </tr>\n",
       "    <tr>\n",
       "      <th>100</th>\n",
       "      <td>Nelson Mandela Bay Metro</td>\n",
       "      <td>NMA</td>\n",
       "      <td>Survey</td>\n",
       "      <td>8.300</td>\n",
       "      <td>3.400</td>\n",
       "      <td>13.200</td>\n",
       "      <td>97459</td>\n",
       "      <td>39923</td>\n",
       "      <td>154995</td>\n",
       "      <td>1076745.819</td>\n",
       "    </tr>\n",
       "    <tr>\n",
       "      <th>101</th>\n",
       "      <td>Nelson Mandela Bay Metro</td>\n",
       "      <td>NMA</td>\n",
       "      <td>Fay-Heriott</td>\n",
       "      <td>9.054</td>\n",
       "      <td>6.129</td>\n",
       "      <td>13.180</td>\n",
       "      <td>106313</td>\n",
       "      <td>71964</td>\n",
       "      <td>154757</td>\n",
       "      <td>1067889.497</td>\n",
       "    </tr>\n",
       "    <tr>\n",
       "      <th>102</th>\n",
       "      <td>City of Tshwane</td>\n",
       "      <td>TSH</td>\n",
       "      <td>Survey</td>\n",
       "      <td>11.700</td>\n",
       "      <td>7.388</td>\n",
       "      <td>16.012</td>\n",
       "      <td>361450</td>\n",
       "      <td>228239</td>\n",
       "      <td>494661</td>\n",
       "      <td>2727866.239</td>\n",
       "    </tr>\n",
       "    <tr>\n",
       "      <th>103</th>\n",
       "      <td>City of Tshwane</td>\n",
       "      <td>TSH</td>\n",
       "      <td>Fay-Heriott</td>\n",
       "      <td>11.025</td>\n",
       "      <td>8.256</td>\n",
       "      <td>14.575</td>\n",
       "      <td>340593</td>\n",
       "      <td>255052</td>\n",
       "      <td>450265</td>\n",
       "      <td>2748725.603</td>\n",
       "    </tr>\n",
       "  </tbody>\n",
       "</table>\n",
       "<p>104 rows × 10 columns</p>\n",
       "</div>"
      ],
      "text/plain": [
       "                     District Code     Estimate  Prevalence_%  Prevalence_LCL  \\\n",
       "0                Buffalo City  BUF       Survey        13.600          10.268   \n",
       "1                Buffalo City  BUF  Fay-Heriott        13.501          11.032   \n",
       "2           City of Cape Town  CPT       Survey         5.200           3.044   \n",
       "3           City of Cape Town  CPT  Fay-Heriott         6.020           4.335   \n",
       "4                  West Coast  DC1       Survey         2.700           0.000   \n",
       "..                        ...  ...          ...           ...             ...   \n",
       "99                   Mangaung  MAN  Fay-Heriott         9.147           6.726   \n",
       "100  Nelson Mandela Bay Metro  NMA       Survey         8.300           3.400   \n",
       "101  Nelson Mandela Bay Metro  NMA  Fay-Heriott         9.054           6.129   \n",
       "102           City of Tshwane  TSH       Survey        11.700           7.388   \n",
       "103           City of Tshwane  TSH  Fay-Heriott        11.025           8.256   \n",
       "\n",
       "     Prevalence_UCL  NoPLHIV  NoPLHIV_LCL  NoPLHIV_UCL     NoNLHIV  \n",
       "0            16.932   102437        77340       127534  650776.235  \n",
       "1            16.422   101693        83092       123691  651516.879  \n",
       "2             7.356   200751       117517       283985 3659845.154  \n",
       "3             8.303   232409       167359       320548 3628178.284  \n",
       "4             5.444    11302            0        22789  407290.593  \n",
       "..              ...      ...          ...          ...         ...  \n",
       "99           12.326   101520        74646       136792 1008300.581  \n",
       "100          13.200    97459        39923       154995 1076745.819  \n",
       "101          13.180   106313        71964       154757 1067889.497  \n",
       "102          16.012   361450       228239       494661 2727866.239  \n",
       "103          14.575   340593       255052       450265 2748725.603  \n",
       "\n",
       "[104 rows x 10 columns]"
      ]
     },
     "execution_count": 188,
     "metadata": {},
     "output_type": "execute_result"
    }
   ],
   "source": [
    "df3.drop(columns=['Multiplier', 'TotalHIV'])\n"
   ]
  },
  {
   "cell_type": "markdown",
   "metadata": {},
   "source": [
    "## Question: What is the total NoPLHIV in all the cities"
   ]
  },
  {
   "cell_type": "code",
   "execution_count": 191,
   "metadata": {},
   "outputs": [],
   "source": [
    "df4 = pd.DataFrame(dataset)"
   ]
  },
  {
   "cell_type": "code",
   "execution_count": 193,
   "metadata": {},
   "outputs": [
    {
     "name": "stdout",
     "output_type": "stream",
     "text": [
      "                     District Code     Estimate  Prevalence_%  Prevalence_LCL  \\\n",
      "0                Buffalo City  BUF       Survey        13.600          10.268   \n",
      "1                Buffalo City  BUF  Fay-Heriott        13.501          11.032   \n",
      "2           City of Cape Town  CPT       Survey         5.200           3.044   \n",
      "3           City of Cape Town  CPT  Fay-Heriott         6.020           4.335   \n",
      "96       City of Johannesburg  JHB       Survey        11.100           7.964   \n",
      "97       City of Johannesburg  JHB  Fay-Heriott        11.075           8.760   \n",
      "100  Nelson Mandela Bay Metro  NMA       Survey         8.300           3.400   \n",
      "101  Nelson Mandela Bay Metro  NMA  Fay-Heriott         9.054           6.129   \n",
      "102           City of Tshwane  TSH       Survey        11.700           7.388   \n",
      "103           City of Tshwane  TSH  Fay-Heriott        11.025           8.256   \n",
      "\n",
      "     Prevalence_UCL  NoPLHIV  NoPLHIV_LCL  NoPLHIV_UCL  Multiplier  \\\n",
      "0            16.932   102437        77340       127534       7.353   \n",
      "1            16.422   101693        83092       123691       7.407   \n",
      "2             7.356   200751       117517       283985      19.231   \n",
      "3             8.303   232409       167359       320548      16.611   \n",
      "96           14.236   515387       369778       660996       9.009   \n",
      "97           13.909   514241       406743       645818       9.029   \n",
      "100          13.200    97459        39923       154995      12.048   \n",
      "101          13.180   106313        71964       154757      11.045   \n",
      "102          16.012   361450       228239       494661       8.547   \n",
      "103          14.575   340593       255052       450265       9.070   \n",
      "\n",
      "       TotalHIV     NoNLHIV  \n",
      "0    753213.235  650776.235  \n",
      "1    753209.879  651516.879  \n",
      "2   3860596.154 3659845.154  \n",
      "3   3860587.284 3628178.284  \n",
      "96  4643126.126 4127739.126  \n",
      "97  4643131.460 4128890.460  \n",
      "100 1174204.819 1076745.819  \n",
      "101 1174202.497 1067889.497  \n",
      "102 3089316.239 2727866.239  \n",
      "103 3089318.603 2748725.603  \n"
     ]
    }
   ],
   "source": [
    "df4 = df4[df4['District'].str.contains('City|Metro')]\n",
    "print(df4)"
   ]
  },
  {
   "cell_type": "code",
   "execution_count": 194,
   "metadata": {},
   "outputs": [
    {
     "name": "stdout",
     "output_type": "stream",
     "text": [
      "                     District  NoPLHIV    Total\n",
      "0                Buffalo City   102437  2572733\n",
      "1                Buffalo City   101693  2572733\n",
      "2           City of Cape Town   200751  2572733\n",
      "3           City of Cape Town   232409  2572733\n",
      "96       City of Johannesburg   515387  2572733\n",
      "97       City of Johannesburg   514241  2572733\n",
      "100  Nelson Mandela Bay Metro    97459  2572733\n",
      "101  Nelson Mandela Bay Metro   106313  2572733\n",
      "102           City of Tshwane   361450  2572733\n",
      "103           City of Tshwane   340593  2572733\n"
     ]
    }
   ],
   "source": [
    "\n",
    "df4['Total'] = df4['NoPLHIV'].sum() \n",
    "print(df4[['District', 'NoPLHIV','Total']])"
   ]
  },
  {
   "cell_type": "markdown",
   "metadata": {},
   "source": [
    "##  Question: Remove all the special/non-alphabetic characters from the dataframe column names. Print the resultant field names output."
   ]
  },
  {
   "cell_type": "code",
   "execution_count": 195,
   "metadata": {},
   "outputs": [
    {
     "name": "stdout",
     "output_type": "stream",
     "text": [
      "                     District Code     Estimate  Prevalence_%  Prevalence_LCL  \\\n",
      "0                Buffalo City  BUF       Survey        13.600          10.268   \n",
      "1                Buffalo City  BUF  Fay-Heriott        13.501          11.032   \n",
      "2           City of Cape Town  CPT       Survey         5.200           3.044   \n",
      "3           City of Cape Town  CPT  Fay-Heriott         6.020           4.335   \n",
      "4                  West Coast  DC1       Survey         2.700           0.000   \n",
      "..                        ...  ...          ...           ...             ...   \n",
      "99                   Mangaung  MAN  Fay-Heriott         9.147           6.726   \n",
      "100  Nelson Mandela Bay Metro  NMA       Survey         8.300           3.400   \n",
      "101  Nelson Mandela Bay Metro  NMA  Fay-Heriott         9.054           6.129   \n",
      "102           City of Tshwane  TSH       Survey        11.700           7.388   \n",
      "103           City of Tshwane  TSH  Fay-Heriott        11.025           8.256   \n",
      "\n",
      "     Prevalence_UCL  NoPLHIV  NoPLHIV_LCL  NoPLHIV_UCL  Multiplier  \\\n",
      "0            16.932   102437        77340       127534       7.353   \n",
      "1            16.422   101693        83092       123691       7.407   \n",
      "2             7.356   200751       117517       283985      19.231   \n",
      "3             8.303   232409       167359       320548      16.611   \n",
      "4             5.444    11302            0        22789      37.037   \n",
      "..              ...      ...          ...          ...         ...   \n",
      "99           12.326   101520        74646       136792      10.932   \n",
      "100          13.200    97459        39923       154995      12.048   \n",
      "101          13.180   106313        71964       154757      11.045   \n",
      "102          16.012   361450       228239       494661       8.547   \n",
      "103          14.575   340593       255052       450265       9.070   \n",
      "\n",
      "       TotalHIV     NoNLHIV  \n",
      "0    753213.235  650776.235  \n",
      "1    753209.879  651516.879  \n",
      "2   3860596.154 3659845.154  \n",
      "3   3860587.284 3628178.284  \n",
      "4    418592.593  407290.593  \n",
      "..          ...         ...  \n",
      "99  1109820.581 1008300.581  \n",
      "100 1174204.819 1076745.819  \n",
      "101 1174202.497 1067889.497  \n",
      "102 3089316.239 2727866.239  \n",
      "103 3089318.603 2748725.603  \n",
      "\n",
      "[104 rows x 12 columns]\n"
     ]
    }
   ],
   "source": [
    "df5 = pd.DataFrame(dataset)\n",
    "print(df5)\n"
   ]
  },
  {
   "cell_type": "code",
   "execution_count": 196,
   "metadata": {},
   "outputs": [
    {
     "name": "stdout",
     "output_type": "stream",
     "text": [
      "\n",
      "\n",
      "                      District Code     Estimate  Prevalence  PrevalenceLCL  \\\n",
      "0                Buffalo City  BUF       Survey      13.600         10.268   \n",
      "1                Buffalo City  BUF  Fay-Heriott      13.501         11.032   \n",
      "2           City of Cape Town  CPT       Survey       5.200          3.044   \n",
      "3           City of Cape Town  CPT  Fay-Heriott       6.020          4.335   \n",
      "4                  West Coast  DC1       Survey       2.700          0.000   \n",
      "..                        ...  ...          ...         ...            ...   \n",
      "99                   Mangaung  MAN  Fay-Heriott       9.147          6.726   \n",
      "100  Nelson Mandela Bay Metro  NMA       Survey       8.300          3.400   \n",
      "101  Nelson Mandela Bay Metro  NMA  Fay-Heriott       9.054          6.129   \n",
      "102           City of Tshwane  TSH       Survey      11.700          7.388   \n",
      "103           City of Tshwane  TSH  Fay-Heriott      11.025          8.256   \n",
      "\n",
      "     PrevalenceUCL  NoPLHIV  NoPLHIVLCL  NoPLHIVUCL  Multiplier    TotalHIV  \\\n",
      "0           16.932   102437       77340      127534       7.353  753213.235   \n",
      "1           16.422   101693       83092      123691       7.407  753209.879   \n",
      "2            7.356   200751      117517      283985      19.231 3860596.154   \n",
      "3            8.303   232409      167359      320548      16.611 3860587.284   \n",
      "4            5.444    11302           0       22789      37.037  418592.593   \n",
      "..             ...      ...         ...         ...         ...         ...   \n",
      "99          12.326   101520       74646      136792      10.932 1109820.581   \n",
      "100         13.200    97459       39923      154995      12.048 1174204.819   \n",
      "101         13.180   106313       71964      154757      11.045 1174202.497   \n",
      "102         16.012   361450      228239      494661       8.547 3089316.239   \n",
      "103         14.575   340593      255052      450265       9.070 3089318.603   \n",
      "\n",
      "        NoNLHIV  \n",
      "0    650776.235  \n",
      "1    651516.879  \n",
      "2   3659845.154  \n",
      "3   3628178.284  \n",
      "4    407290.593  \n",
      "..          ...  \n",
      "99  1008300.581  \n",
      "100 1076745.819  \n",
      "101 1067889.497  \n",
      "102 2727866.239  \n",
      "103 2748725.603  \n",
      "\n",
      "[104 rows x 12 columns]\n"
     ]
    }
   ],
   "source": [
    "df5.columns = df5.columns.str.replace('[^a-zA-Z0-9]', '')\n",
    "\n",
    "print(\"\\n\\n\", df5)"
   ]
  },
  {
   "cell_type": "markdown",
   "metadata": {},
   "source": [
    "## Question: Using matplotlib, plot each Prevalence confidence interval (Prevalence_UCL and Prevalence_LCL) for Districts that end in “i”; according to Fay-Herriott estimates on 1 graph. "
   ]
  },
  {
   "cell_type": "code",
   "execution_count": 197,
   "metadata": {},
   "outputs": [
    {
     "name": "stdout",
     "output_type": "stream",
     "text": [
      "                     District  Code     Estimate  Prevalence  PrevalenceLCL  \\\n",
      "11                 Chris Hani  DC13  Fay-Heriott      14.081         11.181   \n",
      "13                  Joe Gqabi  DC14  Fay-Heriott      11.508          9.292   \n",
      "25                Fezile Dabi  DC20  Fay-Heriott      10.031          7.811   \n",
      "33                 uMzinyathi  DC24  Fay-Heriott      18.098         16.845   \n",
      "51                  Ehlanzeni  DC32  Fay-Heriott      15.821         12.012   \n",
      "53                     Mopani  DC33  Fay-Heriott      11.295          7.921   \n",
      "65  Dr Ruth Segomotsi Mompati  DC39  Fay-Heriott      11.045          8.164   \n",
      "93                 Ekurhuleni   EKU  Fay-Heriott      13.679         10.647   \n",
      "95                  eThekwini   ETH  Fay-Heriott      14.538         11.791   \n",
      "\n",
      "    PrevalenceUCL  NoPLHIV  NoPLHIVLCL  NoPLHIVUCL  Multiplier    TotalHIV  \\\n",
      "11         17.584   113090       89801      141224       7.102  803139.976   \n",
      "13         14.170    40618       32796       50013       8.690  352960.487   \n",
      "25         12.793    50767       39534       64748       9.969  506113.487   \n",
      "33         19.421    93061       86620       99868       5.526  514217.985   \n",
      "51         20.555   271179      205899      352321       6.321 1714048.912   \n",
      "53         15.858    87157       61123      122369       8.853  771644.296   \n",
      "65         14.779    52136       38538       69761       9.054  472022.558   \n",
      "93         17.406   441990      344033      562405       7.311 3231179.093   \n",
      "95         17.795   503618      408472      616456       6.879 3464203.489   \n",
      "\n",
      "       NoNLHIV  \n",
      "11  690049.976  \n",
      "13  312342.487  \n",
      "25  455346.487  \n",
      "33  421156.985  \n",
      "51 1442869.912  \n",
      "53  684487.296  \n",
      "65  419886.558  \n",
      "93 2789189.093  \n",
      "95 2960585.489  \n"
     ]
    }
   ],
   "source": [
    "data2 = dataset.loc[dataset[\"Estimate\"] == \"Fay-Heriott\"]\n",
    "df6 = pd.DataFrame(data2)\n",
    "df7 = df6[df6['District'].str.endswith('i')]\n",
    "print(df7)"
   ]
  },
  {
   "cell_type": "code",
   "execution_count": 203,
   "metadata": {},
   "outputs": [
    {
     "data": {
      "image/png": "[encoded data removed]",
      "text/plain": [
       "<Figure size 1440x720 with 1 Axes>"
      ]
     },
     "metadata": {
      "needs_background": "light"
     },
     "output_type": "display_data"
    }
   ],
   "source": [
    "ax = plt.gca()\n",
    "plt.rcParams[\"figure.figsize\"] = [20, 10]\n",
    "\n",
    "df7.plot(kind='line', x='District', y='PrevalenceLCL', ax=ax)\n",
    "df7.plot(kind='line', x='District', y='PrevalenceUCL', color='red', ax=ax)\n",
    "\n",
    "plt.show()"
   ]
  },
  {
   "cell_type": "markdown",
   "metadata": {},
   "source": [
    "Total time spent on assignment: 2hr and 17 mins "
   ]
  },
  {
   "cell_type": "code",
   "execution_count": null,
   "metadata": {},
   "outputs": [],
   "source": []
  }
 ],
 "metadata": {
  "kernelspec": {
   "display_name": "Python 3",
   "language": "python",
   "name": "python3"
  },
  "language_info": {
   "codemirror_mode": {
    "name": "ipython",
    "version": 3
   },
   "file_extension": ".py",
   "mimetype": "text/x-python",
   "name": "python",
   "nbconvert_exporter": "python",
   "pygments_lexer": "ipython3",
   "version": "3.8.5"
  }
 },
 "nbformat": 4,
 "nbformat_minor": 4
}
